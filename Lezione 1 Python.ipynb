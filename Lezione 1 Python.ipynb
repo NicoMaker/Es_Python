{
 "cells": [
  {
   "cell_type": "markdown",
   "id": "e1a026f7",
   "metadata": {},
   "source": [
    "                                                        #  CORSO PYTHON"
   ]
  },
  {
   "cell_type": "code",
   "execution_count": 50,
   "id": "fab4b037",
   "metadata": {},
   "outputs": [
    {
     "name": "stdout",
     "output_type": "stream",
     "text": [
      "20\n"
     ]
    }
   ],
   "source": [
    "x = 20   # dicharo variabile x\n",
    "print(x) # stampa"
   ]
  },
  {
   "cell_type": "code",
   "execution_count": 51,
   "id": "b45e71ee",
   "metadata": {},
   "outputs": [
    {
     "name": "stdout",
     "output_type": "stream",
     "text": [
      "[1, 2, 3, 4]\n"
     ]
    }
   ],
   "source": [
    "y = [1, 2, 3, 4] # tipo di lato letteral\n",
    "print(y)"
   ]
  },
  {
   "cell_type": "code",
   "execution_count": 52,
   "id": "53222275",
   "metadata": {},
   "outputs": [],
   "source": [
    "x = 2000;\n",
    "y = 7"
   ]
  },
  {
   "cell_type": "code",
   "execution_count": 53,
   "id": "9b657ccb",
   "metadata": {},
   "outputs": [
    {
     "data": {
      "text/plain": [
       "14000"
      ]
     },
     "execution_count": 53,
     "metadata": {},
     "output_type": "execute_result"
    }
   ],
   "source": [
    "x * y"
   ]
  },
  {
   "cell_type": "code",
   "execution_count": 54,
   "id": "1ba7b540",
   "metadata": {},
   "outputs": [
    {
     "data": {
      "text/plain": [
       "2007"
      ]
     },
     "execution_count": 54,
     "metadata": {},
     "output_type": "execute_result"
    }
   ],
   "source": [
    "x + y"
   ]
  },
  {
   "cell_type": "code",
   "execution_count": 55,
   "id": "d3f5079d",
   "metadata": {},
   "outputs": [
    {
     "data": {
      "text/plain": [
       "1993"
      ]
     },
     "execution_count": 55,
     "metadata": {},
     "output_type": "execute_result"
    }
   ],
   "source": [
    "x - y "
   ]
  },
  {
   "cell_type": "code",
   "execution_count": 56,
   "id": "6a53f992",
   "metadata": {},
   "outputs": [
    {
     "data": {
      "text/plain": [
       "285.7142857142857"
      ]
     },
     "execution_count": 56,
     "metadata": {},
     "output_type": "execute_result"
    }
   ],
   "source": [
    "x / y"
   ]
  },
  {
   "cell_type": "code",
   "execution_count": 57,
   "id": "da51091d",
   "metadata": {},
   "outputs": [
    {
     "data": {
      "text/plain": [
       "float"
      ]
     },
     "execution_count": 57,
     "metadata": {},
     "output_type": "execute_result"
    }
   ],
   "source": [
    "y = 1.0\n",
    "type (y)"
   ]
  },
  {
   "cell_type": "code",
   "execution_count": 58,
   "id": "a71c424a",
   "metadata": {},
   "outputs": [
    {
     "data": {
      "text/plain": [
       "2000.0"
      ]
     },
     "execution_count": 58,
     "metadata": {},
     "output_type": "execute_result"
    }
   ],
   "source": [
    "x // y"
   ]
  },
  {
   "cell_type": "code",
   "execution_count": 59,
   "id": "0f6f0a8f",
   "metadata": {},
   "outputs": [
    {
     "data": {
      "text/plain": [
       "2000.0"
      ]
     },
     "execution_count": 59,
     "metadata": {},
     "output_type": "execute_result"
    }
   ],
   "source": [
    "x ** y"
   ]
  },
  {
   "cell_type": "code",
   "execution_count": 61,
   "id": "ab3e53ac",
   "metadata": {},
   "outputs": [
    {
     "data": {
      "text/plain": [
       "14.0"
      ]
     },
     "execution_count": 61,
     "metadata": {},
     "output_type": "execute_result"
    }
   ],
   "source": [
    "x = 8.0\n",
    "y = 6\n",
    "x+y"
   ]
  },
  {
   "cell_type": "markdown",
   "id": "4887fce2",
   "metadata": {},
   "source": [
    "TIPI NUMERICI\n",
    "\n",
    "i tipi di dati in PHYTON sono:\n",
    "\n",
    "interi floating point boolean"
   ]
  },
  {
   "cell_type": "code",
   "execution_count": 62,
   "id": "cfc4b2ee",
   "metadata": {},
   "outputs": [],
   "source": [
    "x = 20000000000\n",
    "y = 2_00_000_0000_000"
   ]
  },
  {
   "cell_type": "code",
   "execution_count": 63,
   "id": "819d674c",
   "metadata": {},
   "outputs": [
    {
     "name": "stdout",
     "output_type": "stream",
     "text": [
      "2000000000000.0\n"
     ]
    }
   ],
   "source": [
    "x = 2e12 # notazione scentifica numero float\n",
    "print (x)"
   ]
  },
  {
   "cell_type": "code",
   "execution_count": 64,
   "id": "e7294104",
   "metadata": {},
   "outputs": [
    {
     "name": "stdout",
     "output_type": "stream",
     "text": [
      "43981\n",
      "501\n",
      "170\n"
     ]
    }
   ],
   "source": [
    "x = 0xABCD # esadecimale x chiave\n",
    "y = 0o765   # ottale o chiave\n",
    "z = 0b010101010\n",
    "\n",
    "print (x)\n",
    "print (y)\n",
    "print (z)"
   ]
  },
  {
   "cell_type": "code",
   "execution_count": 65,
   "id": "8bcc54ab",
   "metadata": {},
   "outputs": [
    {
     "name": "stdout",
     "output_type": "stream",
     "text": [
      "87082\n"
     ]
    }
   ],
   "source": [
    "x = 0b10101010000101010  # numero binario in decimale b chiave binario\n",
    "print (x)"
   ]
  },
  {
   "cell_type": "code",
   "execution_count": 66,
   "id": "8f02e583",
   "metadata": {},
   "outputs": [],
   "source": [
    "stringa = \"buongiorno\""
   ]
  },
  {
   "cell_type": "code",
   "execution_count": 67,
   "id": "444ba7a7",
   "metadata": {},
   "outputs": [
    {
     "data": {
      "text/plain": [
       "'o'"
      ]
     },
     "execution_count": 67,
     "metadata": {},
     "output_type": "execute_result"
    }
   ],
   "source": [
    "stringa[6]  #lettera posizione 6 stringa"
   ]
  },
  {
   "cell_type": "code",
   "execution_count": 68,
   "id": "ae6c5867",
   "metadata": {},
   "outputs": [
    {
     "name": "stdout",
     "output_type": "stream",
     "text": [
      "5.6\n"
     ]
    }
   ],
   "source": [
    "x = 5.6 \n",
    "print (x)"
   ]
  },
  {
   "cell_type": "code",
   "execution_count": 69,
   "id": "b107948c",
   "metadata": {},
   "outputs": [
    {
     "data": {
      "text/plain": [
       "'buongi'"
      ]
     },
     "execution_count": 69,
     "metadata": {},
     "output_type": "execute_result"
    }
   ],
   "source": [
    "stringa [:6] # da carattere 6 in poi"
   ]
  },
  {
   "cell_type": "code",
   "execution_count": 70,
   "id": "87810a3c",
   "metadata": {},
   "outputs": [
    {
     "data": {
      "text/plain": [
       "'orno'"
      ]
     },
     "execution_count": 70,
     "metadata": {},
     "output_type": "execute_result"
    }
   ],
   "source": [
    "stringa [6:] # da carattere 6 in poi"
   ]
  },
  {
   "cell_type": "code",
   "execution_count": 71,
   "id": "b3a66e0c",
   "metadata": {},
   "outputs": [
    {
     "data": {
      "text/plain": [
       "'un'"
      ]
     },
     "execution_count": 71,
     "metadata": {},
     "output_type": "execute_result"
    }
   ],
   "source": [
    "stringa [1:4:2] # parte primo carattere arriva fino a quarto escluso con passaggi di 2"
   ]
  },
  {
   "cell_type": "code",
   "execution_count": 72,
   "id": "4d56367b",
   "metadata": {},
   "outputs": [
    {
     "data": {
      "text/plain": [
       "'BUONGIORNO'"
      ]
     },
     "execution_count": 72,
     "metadata": {},
     "output_type": "execute_result"
    }
   ],
   "source": [
    "stringa.upper() #lettere stringa tutte in maiuscolo"
   ]
  },
  {
   "cell_type": "code",
   "execution_count": 73,
   "id": "136ea342",
   "metadata": {},
   "outputs": [
    {
     "data": {
      "text/plain": [
       "'buongiorno'"
      ]
     },
     "execution_count": 73,
     "metadata": {},
     "output_type": "execute_result"
    }
   ],
   "source": [
    "stringa.lower() #lettere tutte in minuscolo"
   ]
  },
  {
   "cell_type": "markdown",
   "id": "b1cb3678",
   "metadata": {},
   "source": [
    "# slicing\n",
    "stringa\\[start:stop:step\\] \n",
    "\n",
    "# tipo lista    "
   ]
  },
  {
   "cell_type": "code",
   "execution_count": 74,
   "id": "ce11d331",
   "metadata": {},
   "outputs": [],
   "source": [
    "mylist = []     # normale\n",
    "mylist = list() # costruttore oggetto liste"
   ]
  },
  {
   "cell_type": "code",
   "execution_count": 75,
   "id": "d9cf9579",
   "metadata": {},
   "outputs": [],
   "source": [
    "mylist = [1 ,2 , 3, 4] # mia lista"
   ]
  },
  {
   "cell_type": "code",
   "execution_count": 76,
   "id": "f794ffdd",
   "metadata": {},
   "outputs": [
    {
     "data": {
      "text/plain": [
       "3"
      ]
     },
     "execution_count": 76,
     "metadata": {},
     "output_type": "execute_result"
    }
   ],
   "source": [
    "mylist[2] # posto 2 stringa"
   ]
  },
  {
   "cell_type": "code",
   "execution_count": 77,
   "id": "a72a7060",
   "metadata": {},
   "outputs": [
    {
     "data": {
      "text/plain": [
       "4"
      ]
     },
     "execution_count": 77,
     "metadata": {},
     "output_type": "execute_result"
    }
   ],
   "source": [
    "mylist [-1] # parte dal dal ultimo posto"
   ]
  },
  {
   "cell_type": "code",
   "execution_count": 78,
   "id": "4d7ba396",
   "metadata": {},
   "outputs": [],
   "source": [
    "mylist = [[1,2] , [3,4], [5,6]] # più liste"
   ]
  },
  {
   "cell_type": "code",
   "execution_count": 79,
   "id": "8c1b87ed",
   "metadata": {},
   "outputs": [
    {
     "data": {
      "text/plain": [
       "5"
      ]
     },
     "execution_count": 79,
     "metadata": {},
     "output_type": "execute_result"
    }
   ],
   "source": [
    "mylist [2][0]"
   ]
  },
  {
   "cell_type": "code",
   "execution_count": 80,
   "id": "af5077de",
   "metadata": {},
   "outputs": [],
   "source": [
    "mylist.insert(2, \"ciao\") # aggiungo in posizione 2 ciao"
   ]
  },
  {
   "cell_type": "code",
   "execution_count": 82,
   "id": "e63f330c",
   "metadata": {},
   "outputs": [
    {
     "data": {
      "text/plain": [
       "[[1, 2], [3, 4], 'ciao', [5, 6]]"
      ]
     },
     "execution_count": 82,
     "metadata": {},
     "output_type": "execute_result"
    }
   ],
   "source": [
    "mylist # vedo mia lista"
   ]
  },
  {
   "cell_type": "code",
   "execution_count": 83,
   "id": "1d94e61e",
   "metadata": {},
   "outputs": [],
   "source": [
    "del mylist [2] # rirorno lista prima elimino parte 2"
   ]
  },
  {
   "cell_type": "code",
   "execution_count": 84,
   "id": "42f2d31c",
   "metadata": {},
   "outputs": [
    {
     "data": {
      "text/plain": [
       "[[1, 2], [3, 4], [5, 6]]"
      ]
     },
     "execution_count": 84,
     "metadata": {},
     "output_type": "execute_result"
    }
   ],
   "source": [
    "mylist"
   ]
  },
  {
   "cell_type": "code",
   "execution_count": 86,
   "id": "e9bf74a9",
   "metadata": {},
   "outputs": [],
   "source": [
    "mylist.insert(2, [\"ciao\", 5,6])"
   ]
  },
  {
   "cell_type": "code",
   "execution_count": 87,
   "id": "29c76f5b",
   "metadata": {},
   "outputs": [
    {
     "data": {
      "text/plain": [
       "[[1, 2], [3, 4], ['ciao', 5, 6], ['ciao', 5, 6], [5, 6]]"
      ]
     },
     "execution_count": 87,
     "metadata": {},
     "output_type": "execute_result"
    }
   ],
   "source": [
    "mylist"
   ]
  },
  {
   "cell_type": "code",
   "execution_count": 89,
   "id": "bcefcd9c",
   "metadata": {},
   "outputs": [],
   "source": [
    "del mylist [2]"
   ]
  },
  {
   "cell_type": "code",
   "execution_count": 90,
   "id": "d8b2128d",
   "metadata": {},
   "outputs": [
    {
     "data": {
      "text/plain": [
       "[[1, 2], [3, 4], ['ciao', 5, 6], [5, 6]]"
      ]
     },
     "execution_count": 90,
     "metadata": {},
     "output_type": "execute_result"
    }
   ],
   "source": [
    "mylist"
   ]
  },
  {
   "cell_type": "code",
   "execution_count": 91,
   "id": "b7dafdc2",
   "metadata": {},
   "outputs": [
    {
     "data": {
      "text/plain": [
       "[[1, 2], [3, 4], ['ciao', 5, 6], [5, 6]]"
      ]
     },
     "execution_count": 91,
     "metadata": {},
     "output_type": "execute_result"
    }
   ],
   "source": [
    "mylist"
   ]
  },
  {
   "cell_type": "code",
   "execution_count": 92,
   "id": "3dbe3ce8",
   "metadata": {},
   "outputs": [],
   "source": [
    "mylist.insert(0, \"ciao\")"
   ]
  },
  {
   "cell_type": "code",
   "execution_count": 93,
   "id": "b8e6b926",
   "metadata": {},
   "outputs": [
    {
     "data": {
      "text/plain": [
       "['ciao', [1, 2], [3, 4], ['ciao', 5, 6], [5, 6]]"
      ]
     },
     "execution_count": 93,
     "metadata": {},
     "output_type": "execute_result"
    }
   ],
   "source": [
    "mylist"
   ]
  },
  {
   "cell_type": "code",
   "execution_count": 102,
   "id": "ee612f84",
   "metadata": {},
   "outputs": [
    {
     "data": {
      "text/plain": [
       "[10, 20, 50]"
      ]
     },
     "execution_count": 102,
     "metadata": {},
     "output_type": "execute_result"
    }
   ],
   "source": [
    "mylist1 = [10,20,30]\n",
    "mylist2 = mylist1\n",
    "mylist2[2] = 50\n",
    "mylist1 # uguale deve dare 10,20,50"
   ]
  },
  {
   "cell_type": "code",
   "execution_count": 103,
   "id": "13d22aeb",
   "metadata": {},
   "outputs": [
    {
     "data": {
      "text/plain": [
       "[10, 20, 30]"
      ]
     },
     "execution_count": 103,
     "metadata": {},
     "output_type": "execute_result"
    }
   ],
   "source": [
    "mylist1 = [10,20,30]\n",
    "mylist2 = mylist1.copy() \n",
    "mylist[2] = 50\n",
    "mylist1 # lascia il valore di mylast1"
   ]
  },
  {
   "cell_type": "code",
   "execution_count": 105,
   "id": "c78de0e1",
   "metadata": {},
   "outputs": [],
   "source": [
    "mylist1.append(70) #mette in ultimo posto disponibile"
   ]
  },
  {
   "cell_type": "code",
   "execution_count": 106,
   "id": "57959faf",
   "metadata": {},
   "outputs": [
    {
     "data": {
      "text/plain": [
       "[10, 20, 30, 70]"
      ]
     },
     "execution_count": 106,
     "metadata": {},
     "output_type": "execute_result"
    }
   ],
   "source": [
    "mylist1"
   ]
  },
  {
   "cell_type": "markdown",
   "id": "3969bf51",
   "metadata": {},
   "source": [
    "# TUPLE"
   ]
  },
  {
   "cell_type": "code",
   "execution_count": 109,
   "id": "fa8c36a9",
   "metadata": {},
   "outputs": [],
   "source": [
    "medaglie = ()       # normale\n",
    "medaglie = tuple()  # costruttore"
   ]
  },
  {
   "cell_type": "code",
   "execution_count": 110,
   "id": "82ab1f2d",
   "metadata": {},
   "outputs": [],
   "source": [
    "medaglie = (\"oro\" , \"argento\", \"bronzo\") #lista non modificabile visualizzabile "
   ]
  },
  {
   "cell_type": "code",
   "execution_count": 113,
   "id": "016b713a",
   "metadata": {},
   "outputs": [],
   "source": [
    "o, a, b = medaglie # etichette comode per dati che devo tirare fuori unpacching "
   ]
  },
  {
   "cell_type": "code",
   "execution_count": 116,
   "id": "84a77fac",
   "metadata": {},
   "outputs": [
    {
     "data": {
      "text/plain": [
       "'oro'"
      ]
     },
     "execution_count": 116,
     "metadata": {},
     "output_type": "execute_result"
    }
   ],
   "source": [
    "o"
   ]
  },
  {
   "cell_type": "markdown",
   "id": "25bdf957",
   "metadata": {},
   "source": [
    "# DIZIONARI"
   ]
  },
  {
   "cell_type": "code",
   "execution_count": 159,
   "id": "2fa9cc72",
   "metadata": {},
   "outputs": [
    {
     "ename": "KeyError",
     "evalue": "'a'",
     "output_type": "error",
     "traceback": [
      "\u001b[1;31m---------------------------------------------------------------------------\u001b[0m",
      "\u001b[1;31mKeyError\u001b[0m                                  Traceback (most recent call last)",
      "\u001b[1;32m~\\AppData\\Local\\Temp\\ipykernel_13484\\1460399286.py\u001b[0m in \u001b[0;36m<module>\u001b[1;34m\u001b[0m\n\u001b[0;32m      2\u001b[0m \u001b[0mmyDict\u001b[0m \u001b[1;33m=\u001b[0m \u001b[0mdict\u001b[0m\u001b[1;33m(\u001b[0m\u001b[1;33m)\u001b[0m \u001b[1;31m# costruttore\u001b[0m\u001b[1;33m\u001b[0m\u001b[1;33m\u001b[0m\u001b[0m\n\u001b[0;32m      3\u001b[0m \u001b[0mmydict\u001b[0m \u001b[1;33m=\u001b[0m \u001b[1;33m{\u001b[0m\u001b[1;34m\"a\"\u001b[0m\u001b[1;33m:\u001b[0m \u001b[1;36m10\u001b[0m \u001b[1;33m,\u001b[0m \u001b[1;34m\"b\"\u001b[0m \u001b[1;33m:\u001b[0m \u001b[1;36m20\u001b[0m \u001b[1;33m,\u001b[0m \u001b[1;34m\"c\"\u001b[0m \u001b[1;33m:\u001b[0m\u001b[1;36m30\u001b[0m\u001b[1;33m}\u001b[0m \u001b[1;31m# mio dizionario con chiave e numero\u001b[0m\u001b[1;33m\u001b[0m\u001b[1;33m\u001b[0m\u001b[0m\n\u001b[1;32m----> 4\u001b[1;33m \u001b[0mmyDict\u001b[0m\u001b[1;33m[\u001b[0m\u001b[1;34m\"a\"\u001b[0m\u001b[1;33m]\u001b[0m\u001b[1;33m\u001b[0m\u001b[1;33m\u001b[0m\u001b[0m\n\u001b[0m\u001b[0;32m      5\u001b[0m \u001b[0mmyDict\u001b[0m \u001b[1;33m[\u001b[0m\u001b[1;34m\"d\"\u001b[0m\u001b[1;33m]\u001b[0m \u001b[1;33m=\u001b[0m \u001b[1;36m70\u001b[0m\u001b[1;33m\u001b[0m\u001b[1;33m\u001b[0m\u001b[0m\n",
      "\u001b[1;31mKeyError\u001b[0m: 'a'"
     ]
    }
   ],
   "source": [
    "myDict = {}     # normale\n",
    "myDict = dict() # costruttore \n",
    "mydict = {\"a\": 10 , \"b\" : 20 , \"c\" :30} # mio dizionario con chiave e numero \n",
    "myDict[\"a\"]\n",
    "myDict [\"d\"] = 70"
   ]
  },
  {
   "cell_type": "code",
   "execution_count": 124,
   "id": "a0a3582f",
   "metadata": {},
   "outputs": [
    {
     "ename": "SyntaxError",
     "evalue": "invalid syntax (3085335829.py, line 1)",
     "output_type": "error",
     "traceback": [
      "\u001b[1;36m  File \u001b[1;32m\"C:\\Users\\Utente\\AppData\\Local\\Temp\\ipykernel_13484\\3085335829.py\"\u001b[1;36m, line \u001b[1;32m1\u001b[0m\n\u001b[1;33m    myDict = {\"d\" . 40}\u001b[0m\n\u001b[1;37m                    ^\u001b[0m\n\u001b[1;31mSyntaxError\u001b[0m\u001b[1;31m:\u001b[0m invalid syntax\n"
     ]
    }
   ],
   "source": [
    "\"b \" in myDict #vedi se c'è chiave nel dizionario\n",
    "50 in myDict.values()\n",
    "30 in myDict.values()"
   ]
  },
  {
   "cell_type": "code",
   "execution_count": 132,
   "id": "3de140c6",
   "metadata": {},
   "outputs": [
    {
     "data": {
      "text/plain": [
       "{'a'}"
      ]
     },
     "execution_count": 132,
     "metadata": {},
     "output_type": "execute_result"
    }
   ],
   "source": [
    "myDict"
   ]
  },
  {
   "cell_type": "markdown",
   "id": "ce1901d2",
   "metadata": {},
   "source": [
    "# SET"
   ]
  },
  {
   "cell_type": "code",
   "execution_count": 133,
   "id": "3801661f",
   "metadata": {},
   "outputs": [],
   "source": [
    "myset = set ()"
   ]
  },
  {
   "cell_type": "code",
   "execution_count": 134,
   "id": "613e36e8",
   "metadata": {},
   "outputs": [],
   "source": [
    "myset = {10,20,30,40,10}"
   ]
  },
  {
   "cell_type": "code",
   "execution_count": 135,
   "id": "c38e1c76",
   "metadata": {},
   "outputs": [
    {
     "data": {
      "text/plain": [
       "{10, 20, 30, 40}"
      ]
     },
     "execution_count": 135,
     "metadata": {},
     "output_type": "execute_result"
    }
   ],
   "source": [
    "myset"
   ]
  },
  {
   "cell_type": "code",
   "execution_count": 136,
   "id": "4e65403b",
   "metadata": {},
   "outputs": [],
   "source": [
    "myset.add(\"ciao\") # aggiungi dati"
   ]
  },
  {
   "cell_type": "code",
   "execution_count": 137,
   "id": "e8633789",
   "metadata": {},
   "outputs": [
    {
     "data": {
      "text/plain": [
       "{10, 20, 30, 40, 'ciao'}"
      ]
     },
     "execution_count": 137,
     "metadata": {},
     "output_type": "execute_result"
    }
   ],
   "source": [
    "myset"
   ]
  },
  {
   "cell_type": "code",
   "execution_count": 138,
   "id": "593c8314",
   "metadata": {},
   "outputs": [],
   "source": [
    "myset2 = {10 ,30 ,50}"
   ]
  },
  {
   "cell_type": "code",
   "execution_count": 139,
   "id": "7a02c204",
   "metadata": {},
   "outputs": [
    {
     "data": {
      "text/plain": [
       "{10, 20, 30, 40, 50, 'ciao'}"
      ]
     },
     "execution_count": 139,
     "metadata": {},
     "output_type": "execute_result"
    }
   ],
   "source": [
    "myset | myset2 # unione "
   ]
  },
  {
   "cell_type": "code",
   "execution_count": 140,
   "id": "d31e5d7f",
   "metadata": {},
   "outputs": [
    {
     "data": {
      "text/plain": [
       "{10, 30}"
      ]
     },
     "execution_count": 140,
     "metadata": {},
     "output_type": "execute_result"
    }
   ],
   "source": [
    "myset & myset2 # intersezione"
   ]
  },
  {
   "cell_type": "code",
   "execution_count": 141,
   "id": "0aa48332",
   "metadata": {},
   "outputs": [
    {
     "data": {
      "text/plain": [
       "{20, 40, 'ciao'}"
      ]
     },
     "execution_count": 141,
     "metadata": {},
     "output_type": "execute_result"
    }
   ],
   "source": [
    "myset - myset2 # differenza"
   ]
  },
  {
   "cell_type": "code",
   "execution_count": 142,
   "id": "efe4beae",
   "metadata": {},
   "outputs": [
    {
     "data": {
      "text/plain": [
       "{20, 40, 50, 'ciao'}"
      ]
     },
     "execution_count": 142,
     "metadata": {},
     "output_type": "execute_result"
    }
   ],
   "source": [
    "myset ^ myset2 # differenza simmetrica "
   ]
  },
  {
   "cell_type": "markdown",
   "id": "d470fa9c",
   "metadata": {},
   "source": [
    "# STATEMENT IF \n",
    "\n",
    "if condizione: \n",
    "\n",
    "    condizione1\n",
    "   \n",
    "elif\n",
    "    \n",
    "    condizione2\n",
    "    \n",
    "else:\n",
    "\n",
    "    condizione3\n",
    "    "
   ]
  },
  {
   "cell_type": "code",
   "execution_count": 149,
   "id": "ec85a105",
   "metadata": {},
   "outputs": [
    {
     "name": "stdout",
     "output_type": "stream",
     "text": [
      "inserisci un mumero: 59\n",
      "il numero 59 è dispari\n"
     ]
    }
   ],
   "source": [
    "x = input(\"inserisci un mumero: \") #inserisci numero \n",
    "x = int(x)\n",
    "\n",
    "if x % 2 == 0:                        # if\n",
    "    print(f\"il numero {x} è pari\")     # f intende valore variabile x\n",
    "else: \n",
    "    print(f\"il numero {x} è dispari\")"
   ]
  },
  {
   "cell_type": "code",
   "execution_count": 157,
   "id": "98cb216c",
   "metadata": {},
   "outputs": [
    {
     "name": "stdout",
     "output_type": "stream",
     "text": [
      "inserisci un mumero: 25\n",
      "<30 e >=20\n"
     ]
    }
   ],
   "source": [
    "y = input(\"inserisci un mumero: \") #inserisci numero \n",
    "y = int(y)\n",
    "\n",
    "if y < 10:          # if\n",
    "    print(\"<10\")    # f intende valore variabile x\n",
    "\n",
    "elif y < 20:\n",
    "    print(\"<10 e >=10\")\n",
    "\n",
    "elif y < 30:               # elif è come lo switch di c#\n",
    "    print(\"<30 e >=20\")\n",
    "else:\n",
    "    print(\">=30\")\n",
    "    "
   ]
  },
  {
   "cell_type": "markdown",
   "id": "aa189e8d",
   "metadata": {},
   "source": [
    "# STATEMENT WHILE \n",
    "\n",
    "while condizione:\n",
    "\n",
    "       condizione1\n",
    "       \n",
    "else:\n",
    "\n",
    "       condizione2"
   ]
  },
  {
   "cell_type": "code",
   "execution_count": null,
   "id": "a2cfcfd6",
   "metadata": {},
   "outputs": [],
   "source": [
    "x = 0\n",
    "while x < 3:\n",
    "    print(x)\n",
    "    x += 1\n",
    "else:\n",
    "    print(\"false\")"
   ]
  },
  {
   "cell_type": "code",
   "execution_count": null,
   "id": "02cf12a1",
   "metadata": {},
   "outputs": [],
   "source": [
    "while true:\n",
    "    x = input(\"inserisci una stringa\")\n",
    "    if x == \"STOP\":\n",
    "        break;\n",
    "    elif x < \"b\":\n",
    "        continue\n",
    "    print(x)\n",
    "else:\n",
    "    print(\"fine\")"
   ]
  },
  {
   "cell_type": "markdown",
   "id": "89ad453f",
   "metadata": {},
   "source": [
    "# STATEMENT FOR\n",
    "\n",
    "for indice in iterabile:\n",
    "    \n",
    "    condizione 1\n",
    "\n",
    "else:\n",
    "    \n",
    "    condizione2\n"
   ]
  },
  {
   "cell_type": "code",
   "execution_count": null,
   "id": "ef00a877",
   "metadata": {},
   "outputs": [],
   "source": [
    "mylist = {1, 2, 3, 4}\n",
    "\n",
    "for i in mylist\n",
    "    prrint(i)"
   ]
  },
  {
   "cell_type": "code",
   "execution_count": null,
   "id": "fa028890",
   "metadata": {},
   "outputs": [],
   "source": [
    "string = \"buongiorno\"\n",
    "for _ in stringa:\n",
    "    print(_ , end = \" \") # aggiungi spazio con end tra due variabili "
   ]
  },
  {
   "cell_type": "code",
   "execution_count": null,
   "id": "4b75288e",
   "metadata": {},
   "outputs": [],
   "source": [
    "myDict "
   ]
  },
  {
   "cell_type": "code",
   "execution_count": null,
   "id": "9cfd7f29",
   "metadata": {},
   "outputs": [],
   "source": [
    "for _ in myDict:\n",
    "    print(_)   "
   ]
  },
  {
   "cell_type": "code",
   "execution_count": null,
   "id": "863514b6",
   "metadata": {},
   "outputs": [],
   "source": [
    "for _ in myDict.values():  # stampa chiavi\n",
    "    print (_)"
   ]
  },
  {
   "cell_type": "code",
   "execution_count": null,
   "id": "bf24ec88",
   "metadata": {},
   "outputs": [],
   "source": [
    "for _ in myDict.temi().   # stampa numeri dizionario\n",
    "      print(_)"
   ]
  },
  {
   "cell_type": "code",
   "execution_count": null,
   "id": "470f4de0",
   "metadata": {},
   "outputs": [],
   "source": [
    "for _ int range (11):\n",
    "    print(_)         # stampa fino a 11"
   ]
  },
  {
   "cell_type": "code",
   "execution_count": null,
   "id": "5e483346",
   "metadata": {},
   "outputs": [],
   "source": [
    "for _ int range (6,15,2):\n",
    "    print(_)"
   ]
  },
  {
   "cell_type": "code",
   "execution_count": null,
   "id": "4b432172",
   "metadata": {},
   "outputs": [],
   "source": [
    "numero1 = input (\"inserisci il primo numero :\")\n",
    "numero1 = int (numero1)\n",
    "numero2 = input (\"inserisci il secondo numero :\")\n",
    "numero2 = int (numero2)\n",
    "\n",
    "if numero1 %2 == 0 \n",
    "   \n"
   ]
  }
 ],
 "metadata": {
  "kernelspec": {
   "display_name": "Python 3 (ipykernel)",
   "language": "python",
   "name": "python3"
  },
  "language_info": {
   "codemirror_mode": {
    "name": "ipython",
    "version": 3
   },
   "file_extension": ".py",
   "mimetype": "text/x-python",
   "name": "python",
   "nbconvert_exporter": "python",
   "pygments_lexer": "ipython3",
   "version": "3.9.13"
  }
 },
 "nbformat": 4,
 "nbformat_minor": 5
}
