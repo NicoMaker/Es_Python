{
 "cells": [
  {
   "cell_type": "code",
   "execution_count": 1,
   "id": "30c15669",
   "metadata": {},
   "outputs": [],
   "source": [
    "def paridispari():\n",
    "    inp = input(\"Inserisci un numero: \")\n",
    "    numero = int(inp)\n",
    "    modulo = numero % 2\n",
    "    if modulo == 0:\n",
    "        print(\"Numero pari\")\n",
    "    else:\n",
    "        print(\"Numero dispari\")"
   ]
  },
  {
   "cell_type": "code",
   "execution_count": 2,
   "id": "a2113692",
   "metadata": {},
   "outputs": [
    {
     "name": "stdout",
     "output_type": "stream",
     "text": [
      "Inserisci un numero: 15\n",
      "Numero dispari\n"
     ]
    }
   ],
   "source": [
    "paridispari()\n"
   ]
  },
  {
   "cell_type": "code",
   "execution_count": 3,
   "id": "1508620f",
   "metadata": {},
   "outputs": [],
   "source": [
    "stringa = \"BuonGiorno\""
   ]
  },
  {
   "cell_type": "code",
   "execution_count": 4,
   "id": "6c55e747",
   "metadata": {},
   "outputs": [
    {
     "data": {
      "text/plain": [
       "'BUONGIORNO'"
      ]
     },
     "execution_count": 4,
     "metadata": {},
     "output_type": "execute_result"
    }
   ],
   "source": [
    "stringa.upper()\n"
   ]
  },
  {
   "cell_type": "code",
   "execution_count": 5,
   "id": "ebb3378d",
   "metadata": {},
   "outputs": [],
   "source": [
    "#Tipi base:\n",
    "x = None"
   ]
  },
  {
   "cell_type": "code",
   "execution_count": 6,
   "id": "ee1114a1",
   "metadata": {},
   "outputs": [
    {
     "data": {
      "text/plain": [
       "NoneType"
      ]
     },
     "execution_count": 6,
     "metadata": {},
     "output_type": "execute_result"
    }
   ],
   "source": [
    "type(x)"
   ]
  },
  {
   "cell_type": "code",
   "execution_count": 7,
   "id": "62b10a10",
   "metadata": {},
   "outputs": [],
   "source": [
    "#Tipi numerici: ci sono 3 tipi numerici che sono INTERI, FLOAT, BOOLEAN\n",
    "intero = 5\n",
    "num_float = 5.0\n",
    "num_bool = True"
   ]
  },
  {
   "cell_type": "code",
   "execution_count": 8,
   "id": "c5a881d6",
   "metadata": {},
   "outputs": [],
   "source": [
    "numero = 2_00_000_0000_00000"
   ]
  },
  {
   "cell_type": "code",
   "execution_count": 9,
   "id": "09a71050",
   "metadata": {},
   "outputs": [
    {
     "data": {
      "text/plain": [
       "200000000000000"
      ]
     },
     "execution_count": 9,
     "metadata": {},
     "output_type": "execute_result"
    }
   ],
   "source": [
    "numero"
   ]
  },
  {
   "cell_type": "code",
   "execution_count": 11,
   "id": "182eb6b7",
   "metadata": {},
   "outputs": [],
   "source": [
    "num_bin = 0b0100110011    #0b è la chiave per scrivere un numero intero in formato binario"
   ]
  },
  {
   "cell_type": "code",
   "execution_count": 12,
   "id": "cb1108f7",
   "metadata": {},
   "outputs": [
    {
     "data": {
      "text/plain": [
       "307"
      ]
     },
     "execution_count": 12,
     "metadata": {},
     "output_type": "execute_result"
    }
   ],
   "source": [
    "num_bin"
   ]
  },
  {
   "cell_type": "code",
   "execution_count": 13,
   "id": "0c417d39",
   "metadata": {},
   "outputs": [],
   "source": [
    "num_ott = 0o7510 #0o è la chiave per scrivere un numero intero in formato ottale (base 8)"
   ]
  },
  {
   "cell_type": "code",
   "execution_count": 14,
   "id": "bc6c0663",
   "metadata": {},
   "outputs": [
    {
     "data": {
      "text/plain": [
       "3912"
      ]
     },
     "execution_count": 14,
     "metadata": {},
     "output_type": "execute_result"
    }
   ],
   "source": [
    "num_ott"
   ]
  },
  {
   "cell_type": "code",
   "execution_count": 15,
   "id": "1badf547",
   "metadata": {},
   "outputs": [],
   "source": [
    "num_ex = 0xABF2 #0x è la chiave per scrivere un intero in formato esadecimale"
   ]
  },
  {
   "cell_type": "code",
   "execution_count": 16,
   "id": "dbe678b6",
   "metadata": {},
   "outputs": [
    {
     "data": {
      "text/plain": [
       "44018"
      ]
     },
     "execution_count": 16,
     "metadata": {},
     "output_type": "execute_result"
    }
   ],
   "source": [
    "num_ex"
   ]
  },
  {
   "cell_type": "code",
   "execution_count": 17,
   "id": "ab3b4002",
   "metadata": {},
   "outputs": [
    {
     "data": {
      "text/plain": [
       "int"
      ]
     },
     "execution_count": 17,
     "metadata": {},
     "output_type": "execute_result"
    }
   ],
   "source": [
    "type(numero)"
   ]
  },
  {
   "cell_type": "code",
   "execution_count": 18,
   "id": "27196e88",
   "metadata": {},
   "outputs": [],
   "source": [
    "num1_float = 2e5"
   ]
  },
  {
   "cell_type": "code",
   "execution_count": 19,
   "id": "084b8028",
   "metadata": {},
   "outputs": [
    {
     "data": {
      "text/plain": [
       "float"
      ]
     },
     "execution_count": 19,
     "metadata": {},
     "output_type": "execute_result"
    }
   ],
   "source": [
    "type(num1_float)"
   ]
  },
  {
   "cell_type": "code",
   "execution_count": 20,
   "id": "fa46e0ea",
   "metadata": {},
   "outputs": [
    {
     "data": {
      "text/plain": [
       "200000.0"
      ]
     },
     "execution_count": 20,
     "metadata": {},
     "output_type": "execute_result"
    }
   ],
   "source": [
    "num1_float"
   ]
  },
  {
   "cell_type": "code",
   "execution_count": 21,
   "id": "d07fedfb",
   "metadata": {},
   "outputs": [],
   "source": [
    "num2_float = -0.35e-7"
   ]
  },
  {
   "cell_type": "code",
   "execution_count": 22,
   "id": "0cdc4ec8",
   "metadata": {},
   "outputs": [
    {
     "data": {
      "text/plain": [
       "-3.5e-08"
      ]
     },
     "execution_count": 22,
     "metadata": {},
     "output_type": "execute_result"
    }
   ],
   "source": [
    "num2_float"
   ]
  },
  {
   "cell_type": "code",
   "execution_count": 23,
   "id": "31f57b55",
   "metadata": {},
   "outputs": [],
   "source": [
    "# I booleani sono True o False "
   ]
  },
  {
   "cell_type": "code",
   "execution_count": 24,
   "id": "62cb3a6b",
   "metadata": {},
   "outputs": [
    {
     "data": {
      "text/plain": [
       "12"
      ]
     },
     "execution_count": 24,
     "metadata": {},
     "output_type": "execute_result"
    }
   ],
   "source": [
    "# Operazioni tra numeri\n",
    "a = 5\n",
    "b = 7\n",
    "a + b"
   ]
  },
  {
   "cell_type": "code",
   "execution_count": 25,
   "id": "9319b480",
   "metadata": {},
   "outputs": [
    {
     "data": {
      "text/plain": [
       "35"
      ]
     },
     "execution_count": 25,
     "metadata": {},
     "output_type": "execute_result"
    }
   ],
   "source": [
    "a * b"
   ]
  },
  {
   "cell_type": "code",
   "execution_count": 26,
   "id": "4ceae2a8",
   "metadata": {},
   "outputs": [
    {
     "data": {
      "text/plain": [
       "-2"
      ]
     },
     "execution_count": 26,
     "metadata": {},
     "output_type": "execute_result"
    }
   ],
   "source": [
    "a - b"
   ]
  },
  {
   "cell_type": "code",
   "execution_count": 27,
   "id": "d275de92",
   "metadata": {},
   "outputs": [
    {
     "data": {
      "text/plain": [
       "78125"
      ]
     },
     "execution_count": 27,
     "metadata": {},
     "output_type": "execute_result"
    }
   ],
   "source": [
    "a ** b # Elevamento a potenza"
   ]
  },
  {
   "cell_type": "code",
   "execution_count": 28,
   "id": "ef4f380e",
   "metadata": {},
   "outputs": [
    {
     "data": {
      "text/plain": [
       "1.4"
      ]
     },
     "execution_count": 28,
     "metadata": {},
     "output_type": "execute_result"
    }
   ],
   "source": [
    "b / a # Divisione classica con SEMPRE risultato float"
   ]
  },
  {
   "cell_type": "code",
   "execution_count": 29,
   "id": "665ce3fe",
   "metadata": {},
   "outputs": [
    {
     "data": {
      "text/plain": [
       "1"
      ]
     },
     "execution_count": 29,
     "metadata": {},
     "output_type": "execute_result"
    }
   ],
   "source": [
    "b//a # Divisione intera"
   ]
  },
  {
   "cell_type": "code",
   "execution_count": 30,
   "id": "105f1928",
   "metadata": {},
   "outputs": [
    {
     "data": {
      "text/plain": [
       "2"
      ]
     },
     "execution_count": 30,
     "metadata": {},
     "output_type": "execute_result"
    }
   ],
   "source": [
    "b % a # Resto della divisione con a"
   ]
  },
  {
   "cell_type": "code",
   "execution_count": 31,
   "id": "92a695ae",
   "metadata": {},
   "outputs": [
    {
     "data": {
      "text/plain": [
       "float"
      ]
     },
     "execution_count": 31,
     "metadata": {},
     "output_type": "execute_result"
    }
   ],
   "source": [
    "x = 4\n",
    "y = 2\n",
    "type(x/y)"
   ]
  },
  {
   "cell_type": "code",
   "execution_count": 32,
   "id": "54418bbc",
   "metadata": {},
   "outputs": [
    {
     "data": {
      "text/plain": [
       "False"
      ]
     },
     "execution_count": 32,
     "metadata": {},
     "output_type": "execute_result"
    }
   ],
   "source": [
    "# Operazioni tra boolani\n",
    "p = True\n",
    "q = False\n",
    "p and q"
   ]
  },
  {
   "cell_type": "code",
   "execution_count": 33,
   "id": "c65d6ef9",
   "metadata": {},
   "outputs": [
    {
     "data": {
      "text/plain": [
       "True"
      ]
     },
     "execution_count": 33,
     "metadata": {},
     "output_type": "execute_result"
    }
   ],
   "source": [
    "p or q"
   ]
  },
  {
   "cell_type": "code",
   "execution_count": 34,
   "id": "fbaee1c1",
   "metadata": {},
   "outputs": [
    {
     "data": {
      "text/plain": [
       "False"
      ]
     },
     "execution_count": 34,
     "metadata": {},
     "output_type": "execute_result"
    }
   ],
   "source": [
    "not p"
   ]
  },
  {
   "cell_type": "code",
   "execution_count": 35,
   "id": "18e81c61",
   "metadata": {},
   "outputs": [],
   "source": [
    "# Nota sulle assegnazioni\n",
    "a = a + b\n",
    "a += b #il modo in cui si scrive efficacemente\n",
    "a = a - b\n",
    "a -= b\n",
    "a = a ** b\n",
    "a **= b"
   ]
  },
  {
   "cell_type": "code",
   "execution_count": 36,
   "id": "9ac495c2",
   "metadata": {},
   "outputs": [
    {
     "data": {
      "text/plain": [
       "str"
      ]
     },
     "execution_count": 36,
     "metadata": {},
     "output_type": "execute_result"
    }
   ],
   "source": [
    "# TIPI STRINGA\n",
    "stringa = \"buongiorno\"\n",
    "str2 = \"s\"\n",
    "type(str2)"
   ]
  },
  {
   "cell_type": "code",
   "execution_count": 38,
   "id": "bf8d31ac",
   "metadata": {},
   "outputs": [],
   "source": [
    "str_vuota = \"\"\n",
    "str_vuota = ''"
   ]
  },
  {
   "cell_type": "code",
   "execution_count": 39,
   "id": "0bfd8da2",
   "metadata": {},
   "outputs": [
    {
     "data": {
      "text/plain": [
       "'b'"
      ]
     },
     "execution_count": 39,
     "metadata": {},
     "output_type": "execute_result"
    }
   ],
   "source": [
    "# Slicing - Affettare\n",
    "# Una stringa è un insieme ORDINATO di caratteri. Il primo carattere è al posto 0\n",
    "stringa[0] # Estrazione di un singolo carattere"
   ]
  },
  {
   "cell_type": "code",
   "execution_count": 42,
   "id": "7ebde86c",
   "metadata": {},
   "outputs": [
    {
     "data": {
      "text/plain": [
       "'bu'"
      ]
     },
     "execution_count": 42,
     "metadata": {},
     "output_type": "execute_result"
    }
   ],
   "source": [
    "stringa[:2]"
   ]
  },
  {
   "cell_type": "code",
   "execution_count": 43,
   "id": "5c5ce96d",
   "metadata": {},
   "outputs": [
    {
     "data": {
      "text/plain": [
       "'bu'"
      ]
     },
     "execution_count": 43,
     "metadata": {},
     "output_type": "execute_result"
    }
   ],
   "source": [
    "# stringa[start: stop: step]\n",
    "# start= da dove comincio default= inizio stringa\n",
    "# stop= dove finisco escluso il valore di stop default= fine stringa\n",
    "# step= ogni quanti valori estraggo default=1\n",
    "\n",
    "stringa[0:2]"
   ]
  },
  {
   "cell_type": "code",
   "execution_count": 44,
   "id": "9198dbde",
   "metadata": {},
   "outputs": [
    {
     "data": {
      "text/plain": [
       "'iorno'"
      ]
     },
     "execution_count": 44,
     "metadata": {},
     "output_type": "execute_result"
    }
   ],
   "source": [
    "stringa[5:]"
   ]
  },
  {
   "cell_type": "code",
   "execution_count": 45,
   "id": "7647df04",
   "metadata": {},
   "outputs": [
    {
     "data": {
      "text/plain": [
       "'gio'"
      ]
     },
     "execution_count": 45,
     "metadata": {},
     "output_type": "execute_result"
    }
   ],
   "source": [
    "stringa[4:7]"
   ]
  },
  {
   "cell_type": "code",
   "execution_count": 46,
   "id": "a2f56a6e",
   "metadata": {},
   "outputs": [
    {
     "data": {
      "text/plain": [
       "'oin'"
      ]
     },
     "execution_count": 46,
     "metadata": {},
     "output_type": "execute_result"
    }
   ],
   "source": [
    "stringa[2:9:3]"
   ]
  },
  {
   "cell_type": "code",
   "execution_count": 47,
   "id": "0cbde612",
   "metadata": {},
   "outputs": [
    {
     "data": {
      "text/plain": [
       "'BUONGIORNO'"
      ]
     },
     "execution_count": 47,
     "metadata": {},
     "output_type": "execute_result"
    }
   ],
   "source": [
    "stringa.upper()"
   ]
  },
  {
   "cell_type": "code",
   "execution_count": 48,
   "id": "9a569675",
   "metadata": {},
   "outputs": [
    {
     "data": {
      "text/plain": [
       "'buongiorno'"
      ]
     },
     "execution_count": 48,
     "metadata": {},
     "output_type": "execute_result"
    }
   ],
   "source": [
    "stringa.lower()"
   ]
  },
  {
   "cell_type": "code",
   "execution_count": 49,
   "id": "eea1af31",
   "metadata": {},
   "outputs": [
    {
     "data": {
      "text/plain": [
       "10"
      ]
     },
     "execution_count": 49,
     "metadata": {},
     "output_type": "execute_result"
    }
   ],
   "source": [
    "len(stringa)"
   ]
  },
  {
   "cell_type": "code",
   "execution_count": 50,
   "id": "97710118",
   "metadata": {},
   "outputs": [],
   "source": [
    "#Caratteri speciali di uso comune:\n",
    "# \\n per andare a capo\n",
    "# \\t per la tabulazione\n",
    "# \\\", \\\\, \\'"
   ]
  },
  {
   "cell_type": "code",
   "execution_count": 52,
   "id": "e3572a04",
   "metadata": {},
   "outputs": [
    {
     "name": "stdout",
     "output_type": "stream",
     "text": [
      "Il titolo del mio libro è: \"20000 leghe sotto i mari\"\n"
     ]
    }
   ],
   "source": [
    "print(\"Il titolo del mio libro è: \\\"20000 leghe sotto i mari\\\"\")"
   ]
  },
  {
   "cell_type": "code",
   "execution_count": 53,
   "id": "884024f3",
   "metadata": {},
   "outputs": [
    {
     "data": {
      "text/plain": [
       "str"
      ]
     },
     "execution_count": 53,
     "metadata": {},
     "output_type": "execute_result"
    }
   ],
   "source": [
    "# CASTING\n",
    "x = \"2\"\n",
    "type(x)"
   ]
  },
  {
   "cell_type": "code",
   "execution_count": 55,
   "id": "8f1fe8bd",
   "metadata": {},
   "outputs": [
    {
     "data": {
      "text/plain": [
       "7"
      ]
     },
     "execution_count": 55,
     "metadata": {},
     "output_type": "execute_result"
    }
   ],
   "source": [
    "x = int(x)\n",
    "y = 5\n",
    "x + y"
   ]
  },
  {
   "cell_type": "code",
   "execution_count": 56,
   "id": "ad6c855a",
   "metadata": {},
   "outputs": [
    {
     "data": {
      "text/plain": [
       "5"
      ]
     },
     "execution_count": 56,
     "metadata": {},
     "output_type": "execute_result"
    }
   ],
   "source": [
    "y = 5.4\n",
    "y = int(y)\n",
    "y"
   ]
  },
  {
   "cell_type": "code",
   "execution_count": 57,
   "id": "ba02af11",
   "metadata": {},
   "outputs": [
    {
     "data": {
      "text/plain": [
       "1"
      ]
     },
     "execution_count": 57,
     "metadata": {},
     "output_type": "execute_result"
    }
   ],
   "source": [
    "x = True\n",
    "x = int(x)\n",
    "x"
   ]
  },
  {
   "cell_type": "code",
   "execution_count": 60,
   "id": "238523ea",
   "metadata": {},
   "outputs": [
    {
     "data": {
      "text/plain": [
       "True"
      ]
     },
     "execution_count": 60,
     "metadata": {},
     "output_type": "execute_result"
    }
   ],
   "source": [
    "x = bool(\"Ciao\") # Tutti gli oggetti di Python hanno un valore booleano intrinseco\n",
    "x"
   ]
  },
  {
   "cell_type": "code",
   "execution_count": 59,
   "id": "32d1136d",
   "metadata": {},
   "outputs": [
    {
     "data": {
      "text/plain": [
       "False"
      ]
     },
     "execution_count": 59,
     "metadata": {},
     "output_type": "execute_result"
    }
   ],
   "source": [
    "x = bool(\"\")\n",
    "x"
   ]
  },
  {
   "cell_type": "code",
   "execution_count": 61,
   "id": "47fdb039",
   "metadata": {},
   "outputs": [
    {
     "data": {
      "text/plain": [
       "list"
      ]
     },
     "execution_count": 61,
     "metadata": {},
     "output_type": "execute_result"
    }
   ],
   "source": [
    "# TIPO LISTA\n",
    "myList = [] #Lista vuota\n",
    "myList = list() # Costruttore\n",
    "myList = [1, 2, 3, 4]\n",
    "type(myList)"
   ]
  },
  {
   "cell_type": "code",
   "execution_count": 62,
   "id": "0b4686c2",
   "metadata": {},
   "outputs": [],
   "source": [
    "myList = [1, 2, 3, \"Ciao\", paridispari]"
   ]
  },
  {
   "cell_type": "code",
   "execution_count": 63,
   "id": "16c52f62",
   "metadata": {},
   "outputs": [
    {
     "data": {
      "text/plain": [
       "1"
      ]
     },
     "execution_count": 63,
     "metadata": {},
     "output_type": "execute_result"
    }
   ],
   "source": [
    "myList[0]"
   ]
  },
  {
   "cell_type": "code",
   "execution_count": 64,
   "id": "83606a6c",
   "metadata": {},
   "outputs": [
    {
     "data": {
      "text/plain": [
       "[1, 2]"
      ]
     },
     "execution_count": 64,
     "metadata": {},
     "output_type": "execute_result"
    }
   ],
   "source": [
    "myList[:2]"
   ]
  },
  {
   "cell_type": "code",
   "execution_count": 65,
   "id": "fa30d513",
   "metadata": {},
   "outputs": [
    {
     "name": "stdout",
     "output_type": "stream",
     "text": [
      "Inserisci un numero: 15\n",
      "Numero dispari\n"
     ]
    }
   ],
   "source": [
    "myList[4]()"
   ]
  },
  {
   "cell_type": "code",
   "execution_count": 66,
   "id": "79e70402",
   "metadata": {},
   "outputs": [
    {
     "data": {
      "text/plain": [
       "<function __main__.paridispari()>"
      ]
     },
     "execution_count": 66,
     "metadata": {},
     "output_type": "execute_result"
    }
   ],
   "source": [
    "myList[4]"
   ]
  },
  {
   "cell_type": "code",
   "execution_count": 67,
   "id": "389f6c6e",
   "metadata": {},
   "outputs": [],
   "source": [
    "myList.insert(3,[1,7])"
   ]
  },
  {
   "cell_type": "code",
   "execution_count": 68,
   "id": "cacc2a1e",
   "metadata": {},
   "outputs": [
    {
     "data": {
      "text/plain": [
       "[1, 2, 3, [1, 7], 'Ciao', <function __main__.paridispari()>]"
      ]
     },
     "execution_count": 68,
     "metadata": {},
     "output_type": "execute_result"
    }
   ],
   "source": [
    "myList"
   ]
  },
  {
   "cell_type": "code",
   "execution_count": 69,
   "id": "5514034c",
   "metadata": {},
   "outputs": [],
   "source": [
    "myList.insert(100, 100)"
   ]
  },
  {
   "cell_type": "code",
   "execution_count": 70,
   "id": "d931ecd5",
   "metadata": {},
   "outputs": [
    {
     "data": {
      "text/plain": [
       "[1, 2, 3, [1, 7], 'Ciao', <function __main__.paridispari()>, 100]"
      ]
     },
     "execution_count": 70,
     "metadata": {},
     "output_type": "execute_result"
    }
   ],
   "source": [
    "myList"
   ]
  },
  {
   "cell_type": "code",
   "execution_count": 71,
   "id": "442ec9d5",
   "metadata": {},
   "outputs": [],
   "source": [
    "myList.append(\"Buongiorno\")"
   ]
  },
  {
   "cell_type": "code",
   "execution_count": 72,
   "id": "68a7466a",
   "metadata": {},
   "outputs": [
    {
     "data": {
      "text/plain": [
       "[1, 2, 3, [1, 7], 'Ciao', <function __main__.paridispari()>, 100, 'Buongiorno']"
      ]
     },
     "execution_count": 72,
     "metadata": {},
     "output_type": "execute_result"
    }
   ],
   "source": [
    "myList"
   ]
  },
  {
   "cell_type": "code",
   "execution_count": 73,
   "id": "4f6c7d5b",
   "metadata": {},
   "outputs": [],
   "source": [
    "del myList[5]"
   ]
  },
  {
   "cell_type": "code",
   "execution_count": 74,
   "id": "1877cd33",
   "metadata": {},
   "outputs": [
    {
     "data": {
      "text/plain": [
       "[1, 2, 3, [1, 7], 'Ciao', 100, 'Buongiorno']"
      ]
     },
     "execution_count": 74,
     "metadata": {},
     "output_type": "execute_result"
    }
   ],
   "source": [
    "myList"
   ]
  },
  {
   "cell_type": "code",
   "execution_count": 75,
   "id": "ff3f2811",
   "metadata": {},
   "outputs": [
    {
     "data": {
      "text/plain": [
       "[10, 20, 50]"
      ]
     },
     "execution_count": 75,
     "metadata": {},
     "output_type": "execute_result"
    }
   ],
   "source": [
    "# Esempio importante di condivisione\n",
    "myList = [10, 20, 30]\n",
    "myList2 = myList\n",
    "myList2[2] = 50\n",
    "myList"
   ]
  },
  {
   "cell_type": "code",
   "execution_count": 76,
   "id": "79601757",
   "metadata": {},
   "outputs": [
    {
     "data": {
      "text/plain": [
       "[10, 20, 30]"
      ]
     },
     "execution_count": 76,
     "metadata": {},
     "output_type": "execute_result"
    }
   ],
   "source": [
    "myList = [10, 20, 30]\n",
    "myList2 = myList.copy() #ATTENZIONE!\n",
    "myList2[2] = 50\n",
    "myList"
   ]
  },
  {
   "cell_type": "code",
   "execution_count": 78,
   "id": "1c77586f",
   "metadata": {},
   "outputs": [
    {
     "name": "stdout",
     "output_type": "stream",
     "text": [
      "5\n",
      "5\n"
     ]
    }
   ],
   "source": [
    "x = 5 #Esempio numerico\n",
    "y = x\n",
    "print(y)\n",
    "x = 7\n",
    "print(y)"
   ]
  },
  {
   "cell_type": "code",
   "execution_count": 79,
   "id": "7f30ed83",
   "metadata": {},
   "outputs": [
    {
     "data": {
      "text/plain": [
       "10"
      ]
     },
     "execution_count": 79,
     "metadata": {},
     "output_type": "execute_result"
    }
   ],
   "source": [
    "# TIPO DIZIONARIO\n",
    "myDict = {}\n",
    "myDict = dict()\n",
    "myDict = {\"primo\":10, \"secondo\":20, \"terzo\":30}\n",
    "myDict[\"primo\"]"
   ]
  },
  {
   "cell_type": "code",
   "execution_count": 80,
   "id": "67d02f23",
   "metadata": {},
   "outputs": [],
   "source": [
    "myDict[\"quarto\"] = 50 #Inserimento di valori o modifica di quelli esistenti"
   ]
  },
  {
   "cell_type": "code",
   "execution_count": 81,
   "id": "ac20e329",
   "metadata": {},
   "outputs": [
    {
     "data": {
      "text/plain": [
       "{'primo': 10, 'secondo': 20, 'terzo': 30, 'quarto': 50}"
      ]
     },
     "execution_count": 81,
     "metadata": {},
     "output_type": "execute_result"
    }
   ],
   "source": [
    "myDict"
   ]
  },
  {
   "cell_type": "code",
   "execution_count": 82,
   "id": "dd3b9fd0",
   "metadata": {},
   "outputs": [],
   "source": [
    "del myDict[\"secondo\"]"
   ]
  },
  {
   "cell_type": "code",
   "execution_count": 83,
   "id": "cf185a61",
   "metadata": {},
   "outputs": [
    {
     "data": {
      "text/plain": [
       "{'primo': 10, 'terzo': 30, 'quarto': 50}"
      ]
     },
     "execution_count": 83,
     "metadata": {},
     "output_type": "execute_result"
    }
   ],
   "source": [
    "myDict"
   ]
  },
  {
   "cell_type": "code",
   "execution_count": 84,
   "id": "e10a8fba",
   "metadata": {},
   "outputs": [
    {
     "data": {
      "text/plain": [
       "{}"
      ]
     },
     "execution_count": 84,
     "metadata": {},
     "output_type": "execute_result"
    }
   ],
   "source": [
    "myDict.clear()\n",
    "myDict"
   ]
  },
  {
   "cell_type": "code",
   "execution_count": 85,
   "id": "bc491ee6",
   "metadata": {},
   "outputs": [
    {
     "data": {
      "text/plain": [
       "False"
      ]
     },
     "execution_count": 85,
     "metadata": {},
     "output_type": "execute_result"
    }
   ],
   "source": [
    "#Operatore IN:\n",
    "15 in myList"
   ]
  },
  {
   "cell_type": "code",
   "execution_count": 86,
   "id": "a7e65cfd",
   "metadata": {},
   "outputs": [
    {
     "data": {
      "text/plain": [
       "True"
      ]
     },
     "execution_count": 86,
     "metadata": {},
     "output_type": "execute_result"
    }
   ],
   "source": [
    "10 in myList"
   ]
  },
  {
   "cell_type": "code",
   "execution_count": 87,
   "id": "36285365",
   "metadata": {},
   "outputs": [
    {
     "data": {
      "text/plain": [
       "False"
      ]
     },
     "execution_count": 87,
     "metadata": {},
     "output_type": "execute_result"
    }
   ],
   "source": [
    "10 in myDict"
   ]
  },
  {
   "cell_type": "code",
   "execution_count": 90,
   "id": "b62970bc",
   "metadata": {},
   "outputs": [
    {
     "data": {
      "text/plain": [
       "False"
      ]
     },
     "execution_count": 90,
     "metadata": {},
     "output_type": "execute_result"
    }
   ],
   "source": [
    "\"primo\" in myDict"
   ]
  },
  {
   "cell_type": "code",
   "execution_count": 91,
   "id": "7fa98a11",
   "metadata": {},
   "outputs": [
    {
     "data": {
      "text/plain": [
       "True"
      ]
     },
     "execution_count": 91,
     "metadata": {},
     "output_type": "execute_result"
    }
   ],
   "source": [
    "myDict = {'primo': 10, 'terzo': 30, 'quarto': 50}\n",
    "\"primo\" in myDict"
   ]
  },
  {
   "cell_type": "code",
   "execution_count": 92,
   "id": "f2a7f7b0",
   "metadata": {},
   "outputs": [
    {
     "data": {
      "text/plain": [
       "True"
      ]
     },
     "execution_count": 92,
     "metadata": {},
     "output_type": "execute_result"
    }
   ],
   "source": [
    "10 in myDict.values()"
   ]
  },
  {
   "cell_type": "code",
   "execution_count": 93,
   "id": "e9ea964e",
   "metadata": {},
   "outputs": [
    {
     "data": {
      "text/plain": [
       "{1, 2, 3, 4, 5}"
      ]
     },
     "execution_count": 93,
     "metadata": {},
     "output_type": "execute_result"
    }
   ],
   "source": [
    "# TIPO INSIEME, SET\n",
    "mySet = set()\n",
    "mySet = {1, 2, 3, 4, 5, 5}\n",
    "mySet"
   ]
  },
  {
   "cell_type": "code",
   "execution_count": 94,
   "id": "89e191a8",
   "metadata": {},
   "outputs": [
    {
     "data": {
      "text/plain": [
       "{1, 2, 3, 4, 5, 'Ciao'}"
      ]
     },
     "execution_count": 94,
     "metadata": {},
     "output_type": "execute_result"
    }
   ],
   "source": [
    "# Gli insiemi non sono ordinati, ma sono iterabili\n",
    "mySet.add(\"Ciao\")\n",
    "mySet"
   ]
  },
  {
   "cell_type": "code",
   "execution_count": 95,
   "id": "8e62cf0b",
   "metadata": {},
   "outputs": [],
   "source": [
    "# TIPO TUPLA\n",
    "# Lista non modificabile\n",
    "medaglie = ()\n",
    "medaglie = (\"oro\", \"argento\", \"bronzo\")"
   ]
  },
  {
   "cell_type": "code",
   "execution_count": 96,
   "id": "7fec6d21",
   "metadata": {},
   "outputs": [
    {
     "data": {
      "text/plain": [
       "('oro', 'argento', 'bronzo')"
      ]
     },
     "execution_count": 96,
     "metadata": {},
     "output_type": "execute_result"
    }
   ],
   "source": [
    "medaglie"
   ]
  },
  {
   "cell_type": "code",
   "execution_count": 98,
   "id": "10698152",
   "metadata": {},
   "outputs": [],
   "source": [
    "o, a, b = medaglie"
   ]
  },
  {
   "cell_type": "code",
   "execution_count": 99,
   "id": "e581e2b7",
   "metadata": {},
   "outputs": [
    {
     "data": {
      "text/plain": [
       "'oro'"
      ]
     },
     "execution_count": 99,
     "metadata": {},
     "output_type": "execute_result"
    }
   ],
   "source": [
    "o"
   ]
  },
  {
   "cell_type": "code",
   "execution_count": 100,
   "id": "65830359",
   "metadata": {},
   "outputs": [
    {
     "name": "stdout",
     "output_type": "stream",
     "text": [
      "primo\n"
     ]
    }
   ],
   "source": [
    "# STATEMENT IF...ELIF...ELSE\n",
    "# STATEMENT di scelta\n",
    "\n",
    "s = \"python\"\n",
    "if s < \"r\":\n",
    "    print(\"primo\")\n",
    "elif s < \"w\":\n",
    "    print(\"secondo\")\n",
    "else:\n",
    "    print(\"terzo\")"
   ]
  },
  {
   "cell_type": "code",
   "execution_count": 101,
   "id": "46414f2a",
   "metadata": {},
   "outputs": [
    {
     "name": "stdout",
     "output_type": "stream",
     "text": [
      "0\n",
      "1\n",
      "2\n",
      "fine\n"
     ]
    }
   ],
   "source": [
    "# STATEMENT WHILE...ELSE\n",
    "# ciclo di programmazione\n",
    "\n",
    "x = 0\n",
    "while x < 3:\n",
    "    print(x)\n",
    "    x += 1\n",
    "else:\n",
    "    print(\"fine\")"
   ]
  },
  {
   "cell_type": "code",
   "execution_count": 103,
   "id": "d3d49cd5",
   "metadata": {},
   "outputs": [
    {
     "name": "stdout",
     "output_type": "stream",
     "text": [
      "Inserisci una stringa: 12\n",
      "12\n",
      "Inserisci una stringa: ciao\n",
      "ciao\n",
      "Inserisci una stringa: stop\n"
     ]
    }
   ],
   "source": [
    "while True:\n",
    "    x = input(\"Inserisci una stringa: \")\n",
    "    if x == \"stop\":\n",
    "        break\n",
    "    print(x)\n",
    "else:\n",
    "    print(\"fine\")"
   ]
  },
  {
   "cell_type": "code",
   "execution_count": 104,
   "id": "5b3d062f",
   "metadata": {},
   "outputs": [
    {
     "name": "stdout",
     "output_type": "stream",
     "text": [
      "La somma tra 10 e 20 è: 30\n"
     ]
    }
   ],
   "source": [
    "# STRING INTERPOLATION\n",
    "x = 10\n",
    "y = 20\n",
    "print(f\"La somma tra {x} e {y} è: {x+y}\")"
   ]
  },
  {
   "cell_type": "code",
   "execution_count": null,
   "id": "3bc9e707",
   "metadata": {},
   "outputs": [],
   "source": []
  }
 ],
 "metadata": {
  "kernelspec": {
   "display_name": "Python 3 (ipykernel)",
   "language": "python",
   "name": "python3"
  },
  "language_info": {
   "codemirror_mode": {
    "name": "ipython",
    "version": 3
   },
   "file_extension": ".py",
   "mimetype": "text/x-python",
   "name": "python",
   "nbconvert_exporter": "python",
   "pygments_lexer": "ipython3",
   "version": "3.9.13"
  }
 },
 "nbformat": 4,
 "nbformat_minor": 5
}
