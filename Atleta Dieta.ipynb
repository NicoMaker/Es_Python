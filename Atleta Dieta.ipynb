{
 "cells": [
  {
   "cell_type": "code",
   "execution_count": 1,
   "id": "98019dd3",
   "metadata": {},
   "outputs": [
    {
     "name": "stderr",
     "output_type": "stream",
     "text": [
      "C:\\Users\\Utente\\AppData\\Local\\Temp\\ipykernel_5880\\3395398538.py:10: DeprecationWarning: `method='simplex'` is deprecated and will be removed in SciPy 1.11.0. Please use one of the HiGHS solvers (e.g. `method='highs'`) in new code.\n",
      "  sp.optimize.linprog(c, A_ub=None, b_ub= None, A_eq= A_eb, b_eq= b_eb, bounds=bound, method=method, callback=None, options=None, x0=None, integrality=None)\n"
     ]
    },
    {
     "data": {
      "text/plain": [
       "     con: array([0., 0., 0.])\n",
       "     fun: 861.2416265679286\n",
       " message: 'Optimization terminated successfully.'\n",
       "     nit: 4\n",
       "   slack: array([], dtype=float64)\n",
       "  status: 0\n",
       " success: True\n",
       "       x: array([1.33345295, 1.48270181, 0.        , 0.2430897 ])"
      ]
     },
     "execution_count": 1,
     "metadata": {},
     "output_type": "execute_result"
    }
   ],
   "source": [
    "import scipy as sp\n",
    "#dichiarazione delle costanti\n",
    "c = [110, 337, 371, 884]\n",
    "A_eb = [[2.6, 1.5, 1.5, 100], [0, 60.7, 74.7, 0], [20.2, 22.3, 13.0, 0]]\n",
    "b_eb = [30, 90, 60]\n",
    "bound = (0, None)\n",
    "method = \"simplex\"\n",
    "''' scipy.optimize.linprog(c, A_ub=None, b_ub = None, A_eq=None, b_eq=None, bounds=None, \n",
    "method = 'highs',) '''\n",
    "sp.optimize.linprog(c, A_ub=None, b_ub= None, A_eq= A_eb, b_eq= b_eb, bounds=bound, method=method, callback=None, options=None, x0=None, integrality=None)"
   ]
  },
  {
   "cell_type": "code",
   "execution_count": null,
   "id": "4fca5cfb",
   "metadata": {},
   "outputs": [],
   "source": []
  }
 ],
 "metadata": {
  "kernelspec": {
   "display_name": "base",
   "language": "python",
   "name": "python3"
  },
  "language_info": {
   "codemirror_mode": {
    "name": "ipython",
    "version": 3
   },
   "file_extension": ".py",
   "mimetype": "text/x-python",
   "name": "python",
   "nbconvert_exporter": "python",
   "pygments_lexer": "ipython3",
   "version": "3.9.13 (main, Aug 25 2022, 23:51:50) [MSC v.1916 64 bit (AMD64)]"
  },
  "vscode": {
   "interpreter": {
    "hash": "492de5c55b0784f5394852be3d129468b1a3cbd17c8e16230d794b01878ae870"
   }
  }
 },
 "nbformat": 4,
 "nbformat_minor": 5
}
