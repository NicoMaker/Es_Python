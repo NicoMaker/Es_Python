{
 "cells": [
  {
   "cell_type": "code",
   "execution_count": 1,
   "id": "188063a8",
   "metadata": {},
   "outputs": [],
   "source": [
    "class MyClass:\n",
    "    pass"
   ]
  },
  {
   "cell_type": "code",
   "execution_count": 2,
   "id": "b70418e8",
   "metadata": {},
   "outputs": [
    {
     "data": {
      "text/plain": [
       "type"
      ]
     },
     "execution_count": 2,
     "metadata": {},
     "output_type": "execute_result"
    }
   ],
   "source": [
    "type(MyClass)"
   ]
  },
  {
   "cell_type": "code",
   "execution_count": 3,
   "id": "ee2cf653",
   "metadata": {},
   "outputs": [],
   "source": [
    "myObj = MyClass()"
   ]
  },
  {
   "cell_type": "markdown",
   "id": "85a34f22",
   "metadata": {},
   "source": [
    "# Attributi di Classe\n",
    "Tutti gli attributi/proprietà che sono comuni a tutte le istanze di una classe"
   ]
  },
  {
   "cell_type": "code",
   "execution_count": 4,
   "id": "bf759bd9",
   "metadata": {},
   "outputs": [],
   "source": [
    "class MyClass:\n",
    "    myAttr = 10\n",
    "\n",
    "myObj = MyClass()"
   ]
  },
  {
   "cell_type": "code",
   "execution_count": 5,
   "id": "993c17ac",
   "metadata": {},
   "outputs": [
    {
     "data": {
      "text/plain": [
       "10"
      ]
     },
     "execution_count": 5,
     "metadata": {},
     "output_type": "execute_result"
    }
   ],
   "source": [
    "myObj.myAttr"
   ]
  },
  {
   "cell_type": "code",
   "execution_count": 7,
   "id": "cef7ee4a",
   "metadata": {},
   "outputs": [
    {
     "ename": "AttributeError",
     "evalue": "'MyClass' object has no attribute 'mySecondAttr'",
     "output_type": "error",
     "traceback": [
      "\u001b[1;31m---------------------------------------------------------------------------\u001b[0m",
      "\u001b[1;31mAttributeError\u001b[0m                            Traceback (most recent call last)",
      "\u001b[1;32m~\\AppData\\Local\\Temp\\ipykernel_9580\\485076215.py\u001b[0m in \u001b[0;36m<module>\u001b[1;34m\u001b[0m\n\u001b[0;32m      1\u001b[0m \u001b[0mmyObj\u001b[0m\u001b[1;33m.\u001b[0m\u001b[0mmySecondAttr\u001b[0m \u001b[1;33m=\u001b[0m \u001b[1;36m90\u001b[0m\u001b[1;33m\u001b[0m\u001b[1;33m\u001b[0m\u001b[0m\n\u001b[0;32m      2\u001b[0m \u001b[0mmyObj2\u001b[0m \u001b[1;33m=\u001b[0m \u001b[0mMyClass\u001b[0m\u001b[1;33m(\u001b[0m\u001b[1;33m)\u001b[0m\u001b[1;33m\u001b[0m\u001b[1;33m\u001b[0m\u001b[0m\n\u001b[1;32m----> 3\u001b[1;33m \u001b[0mmyObj2\u001b[0m\u001b[1;33m.\u001b[0m\u001b[0mmySecondAttr\u001b[0m\u001b[1;33m\u001b[0m\u001b[1;33m\u001b[0m\u001b[0m\n\u001b[0m",
      "\u001b[1;31mAttributeError\u001b[0m: 'MyClass' object has no attribute 'mySecondAttr'"
     ]
    }
   ],
   "source": [
    "myObj.mySecondAttr = 90\n",
    "myObj2 = MyClass()\n",
    "myObj2.mySecondAttr"
   ]
  },
  {
   "cell_type": "code",
   "execution_count": 8,
   "id": "c1417b9f",
   "metadata": {},
   "outputs": [
    {
     "name": "stdout",
     "output_type": "stream",
     "text": [
      "1797524347968\n",
      "1797524346384\n"
     ]
    }
   ],
   "source": [
    "class MyClass:\n",
    "    def myMethod(self):\n",
    "        print(id(self))\n",
    "\n",
    "m1 = MyClass() \n",
    "m1.myMethod()\n",
    "\n",
    "m2 = MyClass() \n",
    "m2.myMethod()"
   ]
  },
  {
   "cell_type": "code",
   "execution_count": 9,
   "id": "9d819619",
   "metadata": {},
   "outputs": [
    {
     "name": "stdout",
     "output_type": "stream",
     "text": [
      "1797524347968\n"
     ]
    }
   ],
   "source": [
    "MyClass.myMethod(m1)"
   ]
  },
  {
   "cell_type": "code",
   "execution_count": 13,
   "id": "5c875f84",
   "metadata": {},
   "outputs": [
    {
     "name": "stdout",
     "output_type": "stream",
     "text": [
      "Python\n"
     ]
    }
   ],
   "source": [
    "class MyClass:\n",
    "    def myMethod(self, message):\n",
    "        print(message)\n",
    "\n",
    "m1 = MyClass()\n",
    "m1.myMethod(\"Python\")"
   ]
  },
  {
   "cell_type": "code",
   "execution_count": 14,
   "id": "91439b61",
   "metadata": {},
   "outputs": [],
   "source": [
    "class MyClass:\n",
    "    def setMessage(self, message):\n",
    "        self.message = message\n",
    "    def printMessage(self):\n",
    "        print(self.message)\n",
    "\n",
    "m1 = MyClass()"
   ]
  },
  {
   "cell_type": "code",
   "execution_count": 15,
   "id": "1588bf48",
   "metadata": {},
   "outputs": [],
   "source": [
    "m1.setMessage(\"Python\")"
   ]
  },
  {
   "cell_type": "code",
   "execution_count": 16,
   "id": "852a10cf",
   "metadata": {},
   "outputs": [
    {
     "name": "stdout",
     "output_type": "stream",
     "text": [
      "Python\n"
     ]
    }
   ],
   "source": [
    "m1.printMessage()"
   ]
  },
  {
   "cell_type": "code",
   "execution_count": 17,
   "id": "dda63fbd",
   "metadata": {},
   "outputs": [
    {
     "ename": "AttributeError",
     "evalue": "'MyClass' object has no attribute 'message'",
     "output_type": "error",
     "traceback": [
      "\u001b[1;31m---------------------------------------------------------------------------\u001b[0m",
      "\u001b[1;31mAttributeError\u001b[0m                            Traceback (most recent call last)",
      "\u001b[1;32m~\\AppData\\Local\\Temp\\ipykernel_9580\\1646519263.py\u001b[0m in \u001b[0;36m<module>\u001b[1;34m\u001b[0m\n\u001b[0;32m      1\u001b[0m \u001b[0mm2\u001b[0m \u001b[1;33m=\u001b[0m \u001b[0mMyClass\u001b[0m\u001b[1;33m(\u001b[0m\u001b[1;33m)\u001b[0m\u001b[1;33m\u001b[0m\u001b[1;33m\u001b[0m\u001b[0m\n\u001b[1;32m----> 2\u001b[1;33m \u001b[0mm2\u001b[0m\u001b[1;33m.\u001b[0m\u001b[0mprintMessage\u001b[0m\u001b[1;33m(\u001b[0m\u001b[1;33m)\u001b[0m\u001b[1;33m\u001b[0m\u001b[1;33m\u001b[0m\u001b[0m\n\u001b[0m",
      "\u001b[1;32m~\\AppData\\Local\\Temp\\ipykernel_9580\\1728968607.py\u001b[0m in \u001b[0;36mprintMessage\u001b[1;34m(self)\u001b[0m\n\u001b[0;32m      3\u001b[0m         \u001b[0mself\u001b[0m\u001b[1;33m.\u001b[0m\u001b[0mmessage\u001b[0m \u001b[1;33m=\u001b[0m \u001b[0mmessage\u001b[0m\u001b[1;33m\u001b[0m\u001b[1;33m\u001b[0m\u001b[0m\n\u001b[0;32m      4\u001b[0m     \u001b[1;32mdef\u001b[0m \u001b[0mprintMessage\u001b[0m\u001b[1;33m(\u001b[0m\u001b[0mself\u001b[0m\u001b[1;33m)\u001b[0m\u001b[1;33m:\u001b[0m\u001b[1;33m\u001b[0m\u001b[1;33m\u001b[0m\u001b[0m\n\u001b[1;32m----> 5\u001b[1;33m         \u001b[0mprint\u001b[0m\u001b[1;33m(\u001b[0m\u001b[0mself\u001b[0m\u001b[1;33m.\u001b[0m\u001b[0mmessage\u001b[0m\u001b[1;33m)\u001b[0m\u001b[1;33m\u001b[0m\u001b[1;33m\u001b[0m\u001b[0m\n\u001b[0m\u001b[0;32m      6\u001b[0m \u001b[1;33m\u001b[0m\u001b[0m\n\u001b[0;32m      7\u001b[0m \u001b[0mm1\u001b[0m \u001b[1;33m=\u001b[0m \u001b[0mMyClass\u001b[0m\u001b[1;33m(\u001b[0m\u001b[1;33m)\u001b[0m\u001b[1;33m\u001b[0m\u001b[1;33m\u001b[0m\u001b[0m\n",
      "\u001b[1;31mAttributeError\u001b[0m: 'MyClass' object has no attribute 'message'"
     ]
    }
   ],
   "source": [
    "m2 = MyClass()\n",
    "m2.printMessage()"
   ]
  },
  {
   "cell_type": "code",
   "execution_count": 22,
   "id": "18130918",
   "metadata": {},
   "outputs": [],
   "source": [
    "class MyClass:\n",
    "    myAttr = \"Ciao\"\n",
    "    \n",
    "    def __init__(self, message):\n",
    "        self.message = message\n",
    "    def printMessage(self):\n",
    "        print(self.message)\n",
    "\n",
    "m1 = MyClass(\"Python\")\n",
    "m2 = MyClass(80)"
   ]
  },
  {
   "cell_type": "code",
   "execution_count": 23,
   "id": "7224f6bb",
   "metadata": {},
   "outputs": [
    {
     "name": "stdout",
     "output_type": "stream",
     "text": [
      "Python\n",
      "80\n"
     ]
    },
    {
     "data": {
      "text/plain": [
       "'Ciao'"
      ]
     },
     "execution_count": 23,
     "metadata": {},
     "output_type": "execute_result"
    }
   ],
   "source": [
    "m1.printMessage()\n",
    "m2.printMessage()\n",
    "m1.myAttr\n",
    "m2.myAttr"
   ]
  },
  {
   "cell_type": "code",
   "execution_count": 24,
   "id": "7b13aecf",
   "metadata": {},
   "outputs": [
    {
     "name": "stdout",
     "output_type": "stream",
     "text": [
      "4\n"
     ]
    }
   ],
   "source": [
    "class MyClass:\n",
    "    counter = 0\n",
    "    def __init__(self):\n",
    "        MyClass.counter += 1\n",
    "        \n",
    "    @classmethod\n",
    "    def istanze(cls):\n",
    "        print(cls.counter)\n",
    "\n",
    "m1 = MyClass()\n",
    "m2 = MyClass()\n",
    "m3 = MyClass()\n",
    "m4 = MyClass()\n",
    "\n",
    "MyClass.istanze()"
   ]
  },
  {
   "cell_type": "code",
   "execution_count": 25,
   "id": "0485adf9",
   "metadata": {},
   "outputs": [],
   "source": [
    "class MyClass:\n",
    "    @staticmethod\n",
    "    def somma(a,b):\n",
    "        return a+b"
   ]
  },
  {
   "cell_type": "code",
   "execution_count": 26,
   "id": "1bc8ad21",
   "metadata": {},
   "outputs": [
    {
     "data": {
      "text/plain": [
       "25"
      ]
     },
     "execution_count": 26,
     "metadata": {},
     "output_type": "execute_result"
    }
   ],
   "source": [
    "MyClass.somma(7,18)"
   ]
  },
  {
   "cell_type": "markdown",
   "id": "1cb8ce1b",
   "metadata": {},
   "source": [
    "# EREDITARIETA'"
   ]
  },
  {
   "cell_type": "code",
   "execution_count": 27,
   "id": "aea9f34c",
   "metadata": {},
   "outputs": [],
   "source": [
    "class BClass:\n",
    "    pass\n",
    "\n",
    "class AClass(BClass):\n",
    "    pass"
   ]
  },
  {
   "cell_type": "code",
   "execution_count": 28,
   "id": "c734bb2f",
   "metadata": {},
   "outputs": [],
   "source": [
    "m1 = AClass()"
   ]
  },
  {
   "cell_type": "code",
   "execution_count": 29,
   "id": "d5ea1432",
   "metadata": {},
   "outputs": [
    {
     "data": {
      "text/plain": [
       "True"
      ]
     },
     "execution_count": 29,
     "metadata": {},
     "output_type": "execute_result"
    }
   ],
   "source": [
    "isinstance(m1, BClass)"
   ]
  },
  {
   "cell_type": "code",
   "execution_count": 30,
   "id": "74b9f36c",
   "metadata": {},
   "outputs": [],
   "source": [
    "class BClass:\n",
    "    def setMessage(self, message):\n",
    "        self.message = message\n",
    "    def printMessage(self):\n",
    "        print(self.message)\n",
    "\n",
    "class AClass(BClass):\n",
    "    pass"
   ]
  },
  {
   "cell_type": "code",
   "execution_count": 31,
   "id": "ce8631e0",
   "metadata": {},
   "outputs": [
    {
     "name": "stdout",
     "output_type": "stream",
     "text": [
      "Python\n"
     ]
    }
   ],
   "source": [
    "m1 = AClass()\n",
    "m1.setMessage(\"Python\")\n",
    "m1.printMessage()"
   ]
  },
  {
   "cell_type": "code",
   "execution_count": 32,
   "id": "b8650148",
   "metadata": {},
   "outputs": [],
   "source": [
    "class BClass:\n",
    "    def setMessage(self, message):\n",
    "        self.message = message\n",
    "    def printMessage(self):\n",
    "        print(self.message)\n",
    "\n",
    "class AClass(BClass):\n",
    "    def printMessage(self):\n",
    "        print(\"AClass \" + self.message)"
   ]
  },
  {
   "cell_type": "code",
   "execution_count": 33,
   "id": "f01d22bd",
   "metadata": {},
   "outputs": [
    {
     "name": "stdout",
     "output_type": "stream",
     "text": [
      "AClass Python\n"
     ]
    }
   ],
   "source": [
    "m1 = AClass()\n",
    "m1.setMessage(\"Python\")\n",
    "m1.printMessage()"
   ]
  },
  {
   "cell_type": "code",
   "execution_count": 38,
   "id": "19b9229c",
   "metadata": {},
   "outputs": [
    {
     "name": "stdout",
     "output_type": "stream",
     "text": [
      "20\n"
     ]
    }
   ],
   "source": [
    "class BClass:\n",
    "    def __init__(self, message):\n",
    "        self.message = message\n",
    "    def printMessage(self):\n",
    "        print(self.message)\n",
    "\n",
    "class AClass(BClass):\n",
    "    def __init__(self, valore):\n",
    "        super().__init__(valore)\n",
    "        self.valore = valore\n",
    "\n",
    "m1 = AClass(20)\n",
    "m1.valore\n",
    "m1.printMessage()"
   ]
  },
  {
   "cell_type": "code",
   "execution_count": 40,
   "id": "86dcef37",
   "metadata": {},
   "outputs": [
    {
     "name": "stdout",
     "output_type": "stream",
     "text": [
      "Leggo __myattr\n",
      "Modifico __myattr\n"
     ]
    }
   ],
   "source": [
    "class MyClass:\n",
    "    def __init__(self, myattr):\n",
    "        self.__myattr = myattr\n",
    "    def get_attr(self):\n",
    "        print(\"Leggo __myattr\")\n",
    "        return self.__myattr\n",
    "    def set_attr(self, attr):\n",
    "        print(\"Modifico __myattr\")\n",
    "        self.__myattr = attr\n",
    "        \n",
    "    attr = property(get_attr, set_attr)\n",
    "\n",
    "m1 = MyClass(80)\n",
    "m1.attr #GETTER\n",
    "m1.attr = 70 #SETTER"
   ]
  },
  {
   "cell_type": "code",
   "execution_count": 41,
   "id": "e6e4e6b3",
   "metadata": {},
   "outputs": [
    {
     "ename": "AttributeError",
     "evalue": "'MyClass' object has no attribute '__myattr'",
     "output_type": "error",
     "traceback": [
      "\u001b[1;31m---------------------------------------------------------------------------\u001b[0m",
      "\u001b[1;31mAttributeError\u001b[0m                            Traceback (most recent call last)",
      "\u001b[1;32m~\\AppData\\Local\\Temp\\ipykernel_9580\\2801592385.py\u001b[0m in \u001b[0;36m<module>\u001b[1;34m\u001b[0m\n\u001b[1;32m----> 1\u001b[1;33m \u001b[0mm1\u001b[0m\u001b[1;33m.\u001b[0m\u001b[0m__myattr\u001b[0m\u001b[1;33m\u001b[0m\u001b[1;33m\u001b[0m\u001b[0m\n\u001b[0m",
      "\u001b[1;31mAttributeError\u001b[0m: 'MyClass' object has no attribute '__myattr'"
     ]
    }
   ],
   "source": [
    "m1.__myattr"
   ]
  },
  {
   "cell_type": "code",
   "execution_count": 42,
   "id": "94aafb6d",
   "metadata": {},
   "outputs": [
    {
     "name": "stdout",
     "output_type": "stream",
     "text": [
      "Leggo __myattr\n",
      "Modifico __myattr\n"
     ]
    }
   ],
   "source": [
    "class MyClass:\n",
    "    def __init__(self, myattr):\n",
    "        self.__myattr = myattr\n",
    "    \n",
    "    @property\n",
    "    def attr(self):\n",
    "        print(\"Leggo __myattr\")\n",
    "        return self.__myattr\n",
    "    \n",
    "    @attr.setter\n",
    "    def attr(self, attr):\n",
    "        print(\"Modifico __myattr\")\n",
    "        self.__myattr = attr\n",
    "\n",
    "\n",
    "m1 = MyClass(80)\n",
    "m1.attr #GETTER\n",
    "m1.attr = 70 #SETTER"
   ]
  },
  {
   "cell_type": "code",
   "execution_count": null,
   "id": "520386da",
   "metadata": {},
   "outputs": [],
   "source": []
  }
 ],
 "metadata": {
  "kernelspec": {
   "display_name": "Python 3 (ipykernel)",
   "language": "python",
   "name": "python3"
  },
  "language_info": {
   "codemirror_mode": {
    "name": "ipython",
    "version": 3
   },
   "file_extension": ".py",
   "mimetype": "text/x-python",
   "name": "python",
   "nbconvert_exporter": "python",
   "pygments_lexer": "ipython3",
   "version": "3.9.13"
  }
 },
 "nbformat": 4,
 "nbformat_minor": 5
}
